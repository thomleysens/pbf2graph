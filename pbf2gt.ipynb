{
 "cells": [
  {
   "cell_type": "code",
   "execution_count": 1,
   "id": "aa3ae332-6e6b-4bf0-954a-d4b30e041db2",
   "metadata": {},
   "outputs": [],
   "source": [
    "pbf_file = \"../iso_graph/data/mayotte-latest.osm.pbf\"\n",
    "gt_output = \"../iso_graph/data/test.gt\""
   ]
  },
  {
   "cell_type": "code",
   "execution_count": 2,
   "id": "6ddabe5e-e3e5-459e-99e8-c7291ccba337",
   "metadata": {},
   "outputs": [
    {
     "data": {
      "application/vnd.jupyter.widget-view+json": {
       "model_id": "76624d92026043dc869c7af71fc252bb",
       "version_major": 2,
       "version_minor": 0
      },
      "text/plain": [
       "Make & Save Graph: Init:   0%|          | 0/3 [00:00<?, ?it/s]"
      ]
     },
     "metadata": {},
     "output_type": "display_data"
    },
    {
     "data": {
      "application/vnd.jupyter.widget-view+json": {
       "model_id": "",
       "version_major": 2,
       "version_minor": 0
      },
      "text/plain": [
       "Init: Handler:   0%|          | 0/5 [00:00<?, ?it/s]"
      ]
     },
     "metadata": {},
     "output_type": "display_data"
    },
    {
     "data": {
      "application/vnd.jupyter.widget-view+json": {
       "model_id": "",
       "version_major": 2,
       "version_minor": 0
      },
      "text/plain": [
       "Measuring Length:   0%|          | 0/212548 [00:00<?, ?it/s]"
      ]
     },
     "metadata": {},
     "output_type": "display_data"
    },
    {
     "data": {
      "application/vnd.jupyter.widget-view+json": {
       "model_id": "",
       "version_major": 2,
       "version_minor": 0
      },
      "text/plain": [
       "Add edges:   0%|          | 0/212548 [00:00<?, ?it/s]"
      ]
     },
     "metadata": {},
     "output_type": "display_data"
    },
    {
     "data": {
      "application/vnd.jupyter.widget-view+json": {
       "model_id": "",
       "version_major": 2,
       "version_minor": 0
      },
      "text/plain": [
       "Add vertices' properties:   0%|          | 0/194812 [00:00<?, ?it/s]"
      ]
     },
     "metadata": {},
     "output_type": "display_data"
    }
   ],
   "source": [
    "import sys\n",
    "import os\n",
    "import argparse\n",
    "from tqdm.auto import tqdm\n",
    "\n",
    "from pbf2graph.graph.transform import PBF2Graph\n",
    "\n",
    "\n",
    "bar = tqdm(\n",
    "    total=3,\n",
    "    desc=\"Make & Save Graph: Init\"\n",
    ")\n",
    "transformation = PBF2Graph(\n",
    "    pbf_file\n",
    ")\n",
    "bar.desc = \"Make & Save Graph: Graph\"\n",
    "bar.update(1)\n",
    "transformation.get_graph()\n",
    "bar.desc = \"Make & Save Graph: Save\"\n",
    "bar.update(1)\n",
    "transformation.graph.save(\n",
    "    gt_output\n",
    ")\n",
    "bar.desc = \"Make & Save Graph: DONE\"\n",
    "bar.update(1)\n",
    "bar.close()"
   ]
  }
 ],
 "metadata": {
  "kernelspec": {
   "display_name": "Python 3 (ipykernel)",
   "language": "python",
   "name": "python3"
  },
  "language_info": {
   "codemirror_mode": {
    "name": "ipython",
    "version": 3
   },
   "file_extension": ".py",
   "mimetype": "text/x-python",
   "name": "python",
   "nbconvert_exporter": "python",
   "pygments_lexer": "ipython3",
   "version": "3.10.5"
  }
 },
 "nbformat": 4,
 "nbformat_minor": 5
}
