{
 "cells": [
  {
   "cell_type": "markdown",
   "id": "f067b0ad-7efe-4657-8b2c-ac7d54b757da",
   "metadata": {},
   "source": [
    "# To be used with Docker version (WIP)"
   ]
  },
  {
   "cell_type": "code",
   "execution_count": null,
   "id": "34f38b30-0e51-49cc-b894-d2d9fef4b09b",
   "metadata": {},
   "outputs": [],
   "source": [
    "#Path to PBF OSM file, ex: \"data/osm_data.pbf\"\n",
    "pbf_file = \"\" \n",
    "\n",
    "#Path to output .gt Graph file, ex: \"data/graph.gt\"\n",
    "output_gt = \"\" "
   ]
  },
  {
   "cell_type": "code",
   "execution_count": null,
   "id": "b74b0a30-b321-42d8-8d94-fb86424b1115",
   "metadata": {},
   "outputs": [],
   "source": [
    "import sys\n",
    "import os\n",
    "from tqdm.auto import tqdm\n",
    "\n",
    "\n",
    "from pbf2graph.graph.transform import PBF2Graph\n",
    "\n",
    "\n",
    "bar = tqdm(\n",
    "    total=3,\n",
    "    desc=\"Make & Save Graph: Init\"\n",
    ")\n",
    "transformation = PBF2Graph(\n",
    "    pbf_file,\n",
    "    # idx=\"dense_file_array,data/tmp.nodecache\"\n",
    ")\n",
    "bar.desc = \"Make & Save Graph: Graph\"\n",
    "bar.update(1)\n",
    "transformation.get_graph()\n",
    "bar.desc = \"Make & Save Graph: Save\"\n",
    "bar.update(1)\n",
    "transformation.graph.save(\n",
    "    output_gt\n",
    ")\n",
    "bar.desc = \"Make & Save Graph: DONE\"\n",
    "    bar.update(1)\n",
    "    bar.close()"
   ]
  }
 ],
 "metadata": {
  "kernelspec": {
   "display_name": "Python 3 (ipykernel)",
   "language": "python",
   "name": "python3"
  },
  "language_info": {
   "codemirror_mode": {
    "name": "ipython",
    "version": 3
   },
   "file_extension": ".py",
   "mimetype": "text/x-python",
   "name": "python",
   "nbconvert_exporter": "python",
   "pygments_lexer": "ipython3",
   "version": "3.10.5"
  }
 },
 "nbformat": 4,
 "nbformat_minor": 5
}
